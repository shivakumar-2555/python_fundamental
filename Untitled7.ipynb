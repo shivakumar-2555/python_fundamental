{
 "cells": [
  {
   "cell_type": "code",
   "execution_count": 41,
   "id": "b01a52e3-c240-4046-91ab-9a3ae7649e01",
   "metadata": {},
   "outputs": [],
   "source": [
    "import pandas as pd\n",
    "import numpy as np"
   ]
  },
  {
   "cell_type": "code",
   "execution_count": 43,
   "id": "427c39cb-b247-4bd1-b4af-fed2abbc6d9c",
   "metadata": {},
   "outputs": [
    {
     "data": {
      "text/plain": [
       "array([40, 39, 49, 34, 37, 32, 46, 40, 30, 39, 42, 38, 30, 49, 49])"
      ]
     },
     "execution_count": 43,
     "metadata": {},
     "output_type": "execute_result"
    }
   ],
   "source": [
    "a=np.random.randint(30,50,15)\n",
    "a"
   ]
  },
  {
   "cell_type": "code",
   "execution_count": 45,
   "id": "d134ea23-d9c4-45fc-83a3-a3661ed6d957",
   "metadata": {},
   "outputs": [
    {
     "data": {
      "text/plain": [
       "1"
      ]
     },
     "execution_count": 45,
     "metadata": {},
     "output_type": "execute_result"
    }
   ],
   "source": [
    "a.ndim"
   ]
  },
  {
   "cell_type": "code",
   "execution_count": 47,
   "id": "eba4746f-9c16-4eb4-a317-20232b571171",
   "metadata": {},
   "outputs": [
    {
     "data": {
      "text/plain": [
       "30"
      ]
     },
     "execution_count": 47,
     "metadata": {},
     "output_type": "execute_result"
    }
   ],
   "source": [
    "a[12]"
   ]
  },
  {
   "cell_type": "code",
   "execution_count": 49,
   "id": "262da60c-8563-439c-b401-0e6430207a84",
   "metadata": {},
   "outputs": [
    {
     "data": {
      "text/plain": [
       "30"
      ]
     },
     "execution_count": 49,
     "metadata": {},
     "output_type": "execute_result"
    }
   ],
   "source": [
    "a[-3]"
   ]
  },
  {
   "cell_type": "code",
   "execution_count": 51,
   "id": "3681bdb4-82e2-44d2-b138-e9cc38e29470",
   "metadata": {},
   "outputs": [
    {
     "data": {
      "text/plain": [
       "array([], dtype=int32)"
      ]
     },
     "execution_count": 51,
     "metadata": {},
     "output_type": "execute_result"
    }
   ],
   "source": [
    "a[13:-3]"
   ]
  },
  {
   "cell_type": "code",
   "execution_count": 53,
   "id": "ee7eff3a-dfdb-4f93-8a18-12acc9422927",
   "metadata": {},
   "outputs": [
    {
     "data": {
      "text/plain": [
       "(58, 31, 39, 59, 52, 39, 39, 52)"
      ]
     },
     "execution_count": 53,
     "metadata": {},
     "output_type": "execute_result"
    }
   ],
   "source": [
    "58,31,39,59,52,39,39,52\n"
   ]
  },
  {
   "cell_type": "code",
   "execution_count": 55,
   "id": "ebfb2d7a-e0b0-437a-9926-fc2d2a445cde",
   "metadata": {},
   "outputs": [
    {
     "data": {
      "text/plain": [
       "array([49, 30, 38, 42, 39, 30, 40, 46])"
      ]
     },
     "execution_count": 55,
     "metadata": {},
     "output_type": "execute_result"
    }
   ],
   "source": [
    "a[-2:-10:-1]"
   ]
  },
  {
   "cell_type": "code",
   "execution_count": 57,
   "id": "d99c62b6-d883-4456-9350-990356631d15",
   "metadata": {},
   "outputs": [
    {
     "data": {
      "text/plain": [
       "array([[63, 45, 48, 67, 74, 64, 61, 53],\n",
       "       [61, 59, 55, 77, 69, 69, 48, 60],\n",
       "       [71, 56, 51, 58, 59, 47, 68, 77],\n",
       "       [46, 45, 52, 74, 65, 53, 60, 55],\n",
       "       [64, 72, 46, 69, 65, 75, 75, 51],\n",
       "       [75, 67, 53, 77, 60, 67, 67, 47],\n",
       "       [75, 54, 74, 69, 54, 64, 52, 61]])"
      ]
     },
     "execution_count": 57,
     "metadata": {},
     "output_type": "execute_result"
    }
   ],
   "source": [
    "np.random.seed(94)\n",
    "b=np.random.randint(45,78,(7,8))\n",
    "b"
   ]
  },
  {
   "cell_type": "code",
   "execution_count": 59,
   "id": "28cf8777-988c-456a-b3cf-94693e0c3150",
   "metadata": {},
   "outputs": [
    {
     "data": {
      "text/plain": [
       "47"
      ]
     },
     "execution_count": 59,
     "metadata": {},
     "output_type": "execute_result"
    }
   ],
   "source": [
    "b[2,5]"
   ]
  },
  {
   "cell_type": "code",
   "execution_count": 61,
   "id": "50c9f76b-26c5-4118-828c-6a731d5d4036",
   "metadata": {},
   "outputs": [
    {
     "data": {
      "text/plain": [
       "67"
      ]
     },
     "execution_count": 61,
     "metadata": {},
     "output_type": "execute_result"
    }
   ],
   "source": [
    "b[5,6]"
   ]
  },
  {
   "cell_type": "code",
   "execution_count": 63,
   "id": "497e9062-fc16-4b9c-a793-3af2213c2bfd",
   "metadata": {},
   "outputs": [
    {
     "data": {
      "text/plain": [
       "65"
      ]
     },
     "execution_count": 63,
     "metadata": {},
     "output_type": "execute_result"
    }
   ],
   "source": [
    "b[3,4]"
   ]
  },
  {
   "cell_type": "code",
   "execution_count": 65,
   "id": "521a901a-844e-4053-9e14-587afeb839b1",
   "metadata": {},
   "outputs": [
    {
     "data": {
      "text/plain": [
       "array([[59, 55, 77, 69, 69, 48],\n",
       "       [56, 51, 58, 59, 47, 68],\n",
       "       [45, 52, 74, 65, 53, 60],\n",
       "       [72, 46, 69, 65, 75, 75],\n",
       "       [67, 53, 77, 60, 67, 67],\n",
       "       [54, 74, 69, 54, 64, 52]])"
      ]
     },
     "execution_count": 65,
     "metadata": {},
     "output_type": "execute_result"
    }
   ],
   "source": [
    "b[1:,1:7]"
   ]
  },
  {
   "cell_type": "code",
   "execution_count": 67,
   "id": "082ce1a7-a13e-47e0-a896-27de6d03651f",
   "metadata": {},
   "outputs": [
    {
     "data": {
      "text/plain": [
       "array([[33, 15, 18, 37, 44, 34, 31, 23],\n",
       "       [31, 29, 48, 25, 47, 39, 39, 18],\n",
       "       [30, 41, 26, 21, 28, 29, 17, 38],\n",
       "       [49, 47, 16, 15, 48, 22, 44, 35],\n",
       "       [23, 30, 25, 34, 42, 16, 39, 35],\n",
       "       [45, 45, 21, 45, 37, 48, 23, 47],\n",
       "       [30, 37, 37, 17, 45, 24, 44, 39]])"
      ]
     },
     "execution_count": 67,
     "metadata": {},
     "output_type": "execute_result"
    }
   ],
   "source": [
    "np.random.seed(94)\n",
    "b=np.random.randint(15,50,(7,8))\n",
    "b"
   ]
  },
  {
   "cell_type": "code",
   "execution_count": 69,
   "id": "9ba78fc2-1ed9-428b-b7ab-23033a8fafd0",
   "metadata": {},
   "outputs": [
    {
     "data": {
      "text/plain": [
       "array([[29, 48, 25, 47, 39, 39],\n",
       "       [41, 26, 21, 28, 29, 17],\n",
       "       [47, 16, 15, 48, 22, 44],\n",
       "       [30, 25, 34, 42, 16, 39],\n",
       "       [45, 21, 45, 37, 48, 23],\n",
       "       [37, 37, 17, 45, 24, 44]])"
      ]
     },
     "execution_count": 69,
     "metadata": {},
     "output_type": "execute_result"
    }
   ],
   "source": [
    "b[1:,1:7]"
   ]
  },
  {
   "cell_type": "code",
   "execution_count": 71,
   "id": "0d320ff1-54c0-4f68-a9cd-5689b2e185dd",
   "metadata": {},
   "outputs": [
    {
     "data": {
      "text/plain": [
       "array([[29, 48, 25, 47, 39, 39],\n",
       "       [41, 26, 21, 28, 29, 17],\n",
       "       [47, 16, 15, 48, 22, 44],\n",
       "       [30, 25, 34, 42, 16, 39],\n",
       "       [45, 21, 45, 37, 48, 23],\n",
       "       [37, 37, 17, 45, 24, 44]])"
      ]
     },
     "execution_count": 71,
     "metadata": {},
     "output_type": "execute_result"
    }
   ],
   "source": [
    "b[-6:,-7:-1]"
   ]
  },
  {
   "cell_type": "code",
   "execution_count": 73,
   "id": "ac7252e6-34d1-498e-971e-3b836b89f36a",
   "metadata": {},
   "outputs": [
    {
     "data": {
      "text/plain": [
       "array([[41, 28, 38],\n",
       "       [30, 42, 35]])"
      ]
     },
     "execution_count": 73,
     "metadata": {},
     "output_type": "execute_result"
    }
   ],
   "source": [
    "b[2:5:2,1::3]"
   ]
  },
  {
   "cell_type": "raw",
   "id": "761f5a0b-9d8a-4d38-8d51-2ab7095b637a",
   "metadata": {},
   "source": [
    "np.Where(b>30)"
   ]
  },
  {
   "cell_type": "code",
   "execution_count": null,
   "id": "fbf47555-20b4-4c42-ba48-9c544ade5b79",
   "metadata": {},
   "outputs": [],
   "source": []
  }
 ],
 "metadata": {
  "kernelspec": {
   "display_name": "Python [conda env:base] *",
   "language": "python",
   "name": "conda-base-py"
  },
  "language_info": {
   "codemirror_mode": {
    "name": "ipython",
    "version": 3
   },
   "file_extension": ".py",
   "mimetype": "text/x-python",
   "name": "python",
   "nbconvert_exporter": "python",
   "pygments_lexer": "ipython3",
   "version": "3.12.7"
  }
 },
 "nbformat": 4,
 "nbformat_minor": 5
}
